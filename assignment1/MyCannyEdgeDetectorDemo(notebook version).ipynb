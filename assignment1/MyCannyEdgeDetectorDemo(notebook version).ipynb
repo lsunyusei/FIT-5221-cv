{
 "cells": [
  {
   "cell_type": "code",
   "execution_count": 1,
   "metadata": {},
   "outputs": [],
   "source": [
    "from skimage import io, data,filters\n",
    "from skimage.color import *\n",
    "import numpy as np\n",
    "import matplotlib.pyplot as plt"
   ]
  },
  {
   "cell_type": "code",
   "execution_count": null,
   "metadata": {},
   "outputs": [],
   "source": []
  },
  {
   "cell_type": "code",
   "execution_count": 2,
   "metadata": {},
   "outputs": [],
   "source": [
    "# sobel filter\n",
    "def sobel_filter(img, K_size=3): #K_size : the height of the kernal\n",
    "    if len(img.shape) == 3:\n",
    "        width, height, depth = img.shape\n",
    "    else:\n",
    "        width, height = img.shape\n",
    " \n",
    "    # Zero padding\n",
    "    pad = K_size // 2\n",
    "    out = np.zeros((width + pad * 2, height + pad * 2), dtype=np.float)\n",
    "    out[pad : pad + width, pad : pad + height] = img.copy().astype(np.float)\n",
    "    tmp = out.copy()\n",
    " \n",
    "    out_v = out.copy()\n",
    "    out_h = out.copy()\n",
    " \n",
    "    ## Sobel vertical\n",
    "    Kv = [[1., 2., 1.],[0., 0., 0.], [-1., -2., -1.]]\n",
    "    ## Sobel horizontal\n",
    "    Kh = [[-1., 0., 1.],[-2., 0., 2.],[-1., 0., 1.]]\n",
    " \n",
    "    # filtering\n",
    "    for iRow in range(width):\n",
    "        for iCol in range(height):\n",
    "            out_v[pad + iRow, pad + iCol] = np.sum(Kv * (tmp[iRow : iRow + K_size, iCol : iCol + K_size]))\n",
    "            out_h[pad + iRow, pad + iCol] = np.sum(Kh * (tmp[iRow : iRow + K_size, iCol : iCol + K_size]))\n",
    " \n",
    "    #out_v = np.clip(out_v, 0, 255)\n",
    "    #out_h = np.clip(out_h, 0, 255)\n",
    "    # resize the output\n",
    "    out_v = out_v[pad : pad + width, pad : pad + height]\n",
    "    fy = out_v.astype(np.uint8)\n",
    "    out_h = out_h[pad : pad + width, pad : pad + height]\n",
    "    fx = out_h.astype(np.uint8)\n",
    " \n",
    "    return fy, fx\n"
   ]
  },
  {
   "cell_type": "code",
   "execution_count": 3,
   "metadata": {},
   "outputs": [],
   "source": [
    "# get edge strength and edge angle\n",
    "def get_edge_angle(fx, fy):\n",
    "     # get edge strength\n",
    "    edge = np.sqrt(np.power(fx.astype(np.float32), 2) + np.power(fy.astype(np.float32), 2))\n",
    "    #edge = np.clip(edge, 0, 255)\n",
    " \n",
    "    # make sure the denominator is not 0\n",
    "    fx = np.maximum(fx, 1e-12)\n",
    "    \n",
    " \n",
    "    # get edge angle\n",
    "    angle = np.arctan(fy / fx)\n",
    " \n",
    "    return edge, angle\n"
   ]
  },
  {
   "cell_type": "code",
   "execution_count": 4,
   "metadata": {},
   "outputs": [],
   "source": [
    "# Quantify to 0°、45°、90°、135°\n",
    "def angle_quantization(angle):\n",
    "    angle = angle / np.pi * 180\n",
    "    angle[angle < -22.5] = 180 + angle[angle < -22.5]\n",
    "    angle[angle > 157.5] = angle[angle > 157.5] - 180\n",
    "    _angle = np.zeros_like(angle, dtype=np.uint8)\n",
    "    _angle[np.where(angle <= 22.5)] = 0\n",
    "    _angle[np.where((angle > 22.5) & (angle <= 67.5))] = 45\n",
    "    _angle[np.where((angle > 67.5) & (angle <= 112.5))] = 90\n",
    "    _angle[np.where((angle > 112.5) & (angle <= 157.5))] = 135\n",
    " \n",
    "    return _angle\n"
   ]
  },
  {
   "cell_type": "code",
   "execution_count": 5,
   "metadata": {},
   "outputs": [],
   "source": [
    "def non_maximum_suppression(angle, edge):\n",
    "    width, height = angle.shape\n",
    "    _edge = edge.copy()\n",
    "    dx1, dy1, dx2, dy2=0,0,0,0\n",
    "        \n",
    "    for iRow in range(width):\n",
    "        for iCol in range(height):\n",
    "            if angle[iRow, iCol] == 0:\n",
    "                dx1, dy1, dx2, dy2 = -1, 0, 1, 0\n",
    "            elif angle[iRow, iCol] == 45:\n",
    "                dx1, dy1, dx2, dy2 = -1, 1, 1, -1\n",
    "            elif angle[iRow, iCol] == 90:\n",
    "                dx1, dy1, dx2, dy2 = 0, -1, 0, 1\n",
    "            elif angle[iRow, iCol] == 135:\n",
    "                dx1, dy1, dx2, dy2 = -1, -1, 1, 1\n",
    "            # boundary address\n",
    "            if iCol == 0:\n",
    "                dx1 = max(dx1, 0)\n",
    "                dx2 = max(dx2, 0)\n",
    "            if iCol == height - 1:\n",
    "                dx1 = min(dx1, 0)\n",
    "                dx2 = min(dx2, 0)\n",
    "            if iRow == 0:\n",
    "                dy1 = max(dy1, 0)\n",
    "                dy2 = max(dy2, 0)\n",
    "            if iRow == width - 1:\n",
    "                dy1 = min(dy1, 0)\n",
    "                dy2 = min(dy2, 0)\n",
    "            # if not the maximum, set to 0\n",
    "            if max(max(edge[iRow, iCol], edge[iRow + dy1, iCol + dx1]), edge[iRow + dy2, iCol + dx2]) != edge[iRow, iCol]:\n",
    "                _edge[iRow, iCol] = 0\n",
    " \n",
    "    return _edge\n"
   ]
  },
  {
   "cell_type": "code",
   "execution_count": 215,
   "metadata": {},
   "outputs": [],
   "source": [
    "def hysteresis(edge, HT, LT) :\n",
    "    width, height = edge.shape\n",
    " \n",
    "    # Histeresis threshold\n",
    "    edge[edge >= HT] = 255\n",
    "    edge[edge <= LT] = 0\n",
    " \n",
    "    _edge = np.zeros((width + 2, height + 2), dtype=np.float32)\n",
    "    _edge[1 : width + 1, 1 : height + 1] = edge\n",
    " \n",
    "    ## 8 - Nearest neighbor\n",
    "    #If between HT and LT, and neighbour > HT, set to 255\n",
    "    nn = np.array(((1., 1., 1.), (1., 0., 1.), (1., 1., 1.)), dtype=np.float32)\n",
    " \n",
    "    for y in range(1, width+2):\n",
    "        for x in range(1, height+2):\n",
    "            if _edge[y, x] < LT or _edge[y, x] > HT:\n",
    "                continue\n",
    "            elif np.max(_edge[y-1:y+2, x-1:x+2] * nn) >= HT:\n",
    "                _edge[y, x] = 255\n",
    "            else:\n",
    "                _edge[y, x] = 0\n",
    " \n",
    "    edge = _edge[1:width+1, 1:height+1]\n",
    "                                \n",
    "    return edge\n"
   ]
  },
  {
   "cell_type": "code",
   "execution_count": 6,
   "metadata": {},
   "outputs": [],
   "source": [
    "#img = io.imread(\"yugi.jpg\")\n",
    "img = io.imread(\"yugi.jpg\")\n",
    "#width, height, depth = img.shape\n",
    "img2 = rgb2gray(img)\n",
    "img3 = filters.gaussian(img2,sigma=1.0) # add the gaussian filter"
   ]
  },
  {
   "cell_type": "code",
   "execution_count": 7,
   "metadata": {},
   "outputs": [],
   "source": [
    "fy, fx = sobel_filter(img3, K_size=3)\n",
    "edge, angle = get_edge_angle(fx, fy)\n",
    "angle2 = angle_quantization(angle)\n",
    "edge2 = non_maximum_suppression(angle2, edge)"
   ]
  },
  {
   "cell_type": "code",
   "execution_count": 22,
   "metadata": {},
   "outputs": [],
   "source": [
    "edge2=edge2.astype(np.float32)"
   ]
  },
  {
   "cell_type": "code",
   "execution_count": 24,
   "metadata": {},
   "outputs": [
    {
     "name": "stdout",
     "output_type": "stream",
     "text": [
      "mean is  8.125846\n",
      "max is  360.62445\n",
      "min is  0.0\n",
      "std is  45.205162\n"
     ]
    },
    {
     "data": {
      "text/plain": [
       "array([[  0.,   0., 255., ...,   0.,   0.,   0.],\n",
       "       [  0.,   0.,   0., ...,   0.,   0.,   0.],\n",
       "       [  0.,   0.,   0., ...,   0.,   0.,   0.],\n",
       "       ...,\n",
       "       [  0.,   0.,   0., ...,   0.,   0.,   0.],\n",
       "       [  0.,   0.,   0., ...,   0.,   0.,   0.],\n",
       "       [  0.,   0.,   0., ...,   0.,   0.,   0.]], dtype=float32)"
      ]
     },
     "execution_count": 24,
     "metadata": {},
     "output_type": "execute_result"
    }
   ],
   "source": [
    "print(\"mean is \",np.mean(edge2))\n",
    "print(\"max is \",np.max(edge2))\n",
    "print(\"min is \",np.min(edge2))\n",
    "print(\"std is \",np.std(edge2))\n",
    "edge2"
   ]
  },
  {
   "cell_type": "code",
   "execution_count": 221,
   "metadata": {},
   "outputs": [],
   "source": [
    "out = hysteresis(edge2, 1.0, 0.5)\n",
    "out = out.astype(np.uint8)"
   ]
  },
  {
   "cell_type": "code",
   "execution_count": 222,
   "metadata": {},
   "outputs": [
    {
     "data": {
      "text/plain": [
       "<matplotlib.image.AxesImage at 0xdd9f948>"
      ]
     },
     "execution_count": 222,
     "metadata": {},
     "output_type": "execute_result"
    },
    {
     "data": {
      "image/png": "[encoded data removed]",
      "text/plain": [
       "<Figure size 432x288 with 1 Axes>"
      ]
     },
     "metadata": {
      "needs_background": "light"
     },
     "output_type": "display_data"
    }
   ],
   "source": [
    "io.imshow(out,cmap=\"gray\")"
   ]
  },
  {
   "cell_type": "code",
   "execution_count": 51,
   "metadata": {},
   "outputs": [
    {
     "data": {
      "text/plain": [
       "1.0"
      ]
     },
     "execution_count": 51,
     "metadata": {},
     "output_type": "execute_result"
    }
   ],
   "source": [
    "np.log10(10)"
   ]
  },
  {
   "cell_type": "code",
   "execution_count": null,
   "metadata": {},
   "outputs": [],
   "source": [
    "def myCannyEdgeDetector(image, Low_Threshold, High_Threshold):\n",
    "    "
   ]
  },
  {
   "cell_type": "code",
   "execution_count": null,
   "metadata": {},
   "outputs": [],
   "source": [
    "fig, axes = plt.subplots(1, ncols=2, figsize=(8, 4))\n",
    "ax = axes.ravel()\n",
    "ax[0].imshow(segmented_image_1,cmap='gray')\n",
    "ax[1].imshow(segmented_image_2,cmap='gray')\n",
    "plt.show()"
   ]
  }
 ],
 "metadata": {
  "kernelspec": {
   "display_name": "Python 3",
   "language": "python",
   "name": "python3"
  },
  "language_info": {
   "codemirror_mode": {
    "name": "ipython",
    "version": 3
   },
   "file_extension": ".py",
   "mimetype": "text/x-python",
   "name": "python",
   "nbconvert_exporter": "python",
   "pygments_lexer": "ipython3",
   "version": "3.7.4"
  }
 },
 "nbformat": 4,
 "nbformat_minor": 4
}
