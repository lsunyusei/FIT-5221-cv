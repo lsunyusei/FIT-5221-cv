{
 "cells": [
  {
   "cell_type": "code",
   "execution_count": null,
   "metadata": {},
   "outputs": [],
   "source": [
    "import numpy as np\n",
    "import matplotlib.pyplot as plt\n",
    "from skimage import data,color,draw,transform,feature,filters\n",
    "from skimage import io\n",
    "from skimage.color import *\n",
    "\n",
    "def CountShapes_30988519(img):\n",
    "    im = rgb2gray(img)\n",
    "    image = filters.gaussian(im)\n",
    "    edges =feature.canny(image, sigma=3.0) #detect canny edge\n",
    "    fig, (ax0,ax1) = plt.subplots(1,2, figsize=(20, 15))\n",
    "    ax0.imshow(edges, cmap=plt.cm.gray)  #show canny edge\n",
    "    ax0.set_title('edge iamge')\n",
    "\n",
    "    hough_radii = np.arange(15, 120, 2)  #Radius range\n",
    "    hough_res =transform.hough_circle(edges, hough_radii)  #hough_res：3D array #radius,width_idx and height_idx of circle's center \n",
    "    centers = []  #Store center point coordinates\n",
    "    accums = []   #it is the prop\n",
    "    radii = []    #radius\n",
    "\n",
    "    for radius, h in zip(hough_radii, hough_res):   \n",
    "        peaks =feature.peak_local_max(h,threshold_abs=0.4) #peak is a coordinate, namely the set of center \n",
    "        centers.extend(peaks)                       # add the center ; size: num_peaks per radius\n",
    "        accums.extend(h[peaks[:, 0], peaks[:, 1]]) #size: num_peaks per radius\n",
    "        radii.extend([radius] * len(peaks))       #size: num_peaks same radius per radius\n",
    "    \n",
    "    count = 0 \n",
    "    for idx in np.argsort(accums)[::-1][:]:\n",
    "        center_x, center_y = centers[idx]\n",
    "        radius = radii[idx]\n",
    "        cx, cy =draw.circle_perimeter(center_y, center_x, radius) # the lacation of pixels in the circle\n",
    "    \n",
    "        img[cy, cx] = (255,255,0)\n",
    "        count+=1\n",
    "    print(\"the number of objects is : \",count)\n",
    "    ax1.imshow(img)\n",
    "    ax1.set_title('detected image')\n",
    "    io.imsave('./out/ CountShapes.jpg', bilateral)\n",
    "\n",
    "\n",
    "if __name__ == '__main__':\n",
    "    # Read image\n",
    "    img = io.imread(\"./test/ball-bearings.jpg\") \n",
    "    CountShapes_30988519(img)"
   ]
  }
 ],
 "metadata": {
  "kernelspec": {
   "display_name": "Python 3",
   "language": "python",
   "name": "python3"
  },
  "language_info": {
   "codemirror_mode": {
    "name": "ipython",
    "version": 3
   },
   "file_extension": ".py",
   "mimetype": "text/x-python",
   "name": "python",
   "nbconvert_exporter": "python",
   "pygments_lexer": "ipython3",
   "version": "3.7.7"
  }
 },
 "nbformat": 4,
 "nbformat_minor": 4
}
